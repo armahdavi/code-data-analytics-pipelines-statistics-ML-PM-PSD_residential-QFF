{
 "cells": [
  {
   "cell_type": "markdown",
   "id": "b520f2b9",
   "metadata": {},
   "source": [
    "Figure 3 in Mahdavi & Siegel (2021) Indoor Air\n",
    "\n",
    "This figure illustrates the mass of dust collected on HVAC filters in ASHRAE RP-1649 project per filtration volume of the air passing through the filters.\n",
    "\n",
    "Plot type: Scatter plot"
   ]
  },
  {
   "cell_type": "code",
   "execution_count": 1,
   "id": "671da438",
   "metadata": {},
   "outputs": [],
   "source": [
    "import pandas as pd\n",
    "import matplotlib.pyplot as plt\n",
    "import matplotlib.container as container\n",
    "import matplotlib.ticker as mtick\n",
    "import numpy as np\n",
    "exec(open(r'C:\\PhD Research\\Generic Codes\\notion_corrections.py').read())"
   ]
  },
  {
   "cell_type": "code",
   "execution_count": 2,
   "id": "e9e4a335",
   "metadata": {},
   "outputs": [],
   "source": [
    "### Reading from the main dataframe (pm_master) and defining the x and y axes values\n",
    "\n",
    "df = pd.read_excel(backslash_correct(r'C:\\PhD Research\\PhD - PSD TSP\\Processed\\pm_master.xlsx'))\n",
    "\n",
    "x1 = df.loc[df['ft'] == 1, 'filtration volume']\n",
    "x2 = df.loc[df['ft'] == 2, 'filtration volume']\n",
    "x3 = df.loc[df['ft'] == 3, 'filtration volume']\n",
    "x4 = df.loc[df['ft'] == 4, 'filtration volume']\n",
    "\n",
    "x1_err = df.loc[df['ft'] == 1, 'filtration volume error']\n",
    "x2_err = df.loc[df['ft'] == 2, 'filtration volume error']\n",
    "x3_err = df.loc[df['ft'] == 3, 'filtration volume error']\n",
    "x4_err = df.loc[df['ft'] == 4, 'filtration volume error']\n",
    "\n",
    "\n",
    "y1 = df.loc[df['ft'] == 1, 'TSP mass']\n",
    "y2 = df.loc[df['ft'] == 2, 'TSP mass']\n",
    "y3 = df.loc[df['ft'] == 3, 'TSP mass']\n",
    "y4 = df.loc[df['ft'] == 4, 'TSP mass']\n",
    "\n",
    "y1_err = df.loc[df['ft'] == 1, 'TSP mass error']\n",
    "y2_err = df.loc[df['ft'] == 2, 'TSP mass error']\n",
    "y3_err = df.loc[df['ft'] == 3, 'TSP mass error']\n",
    "y4_err = df.loc[df['ft'] == 4, 'TSP mass error']"
   ]
  },
  {
   "cell_type": "code",
   "execution_count": 3,
   "id": "f51acfc6",
   "metadata": {},
   "outputs": [
    {
     "data": {
      "image/png": "[encoded data removed]",
      "text/plain": [
       "<Figure size 432x288 with 1 Axes>"
      ]
     },
     "metadata": {
      "needs_background": "light"
     },
     "output_type": "display_data"
    }
   ],
   "source": [
    "plt.figure()\n",
    "\n",
    "plt.errorbar(x1, y1, yerr = [y1_err,y1_err], xerr = [x1_err,x1_err], \n",
    "             capsize = 3, c = \"b\", ecolor = 'b', lw = 0, elinewidth = 0.5, capthick = 0.5, label = 'MERV 8', marker = 'o', ms = 4)\n",
    "\n",
    "plt.errorbar(x2, y2, yerr = [y2_err,y2_err], xerr = [x2_err,x2_err], \n",
    "             capsize = 3, c = \"r\", ecolor = 'r', lw = 0, elinewidth = 0.5, capthick = 0.5, label = 'MERV 8E', marker = 's', ms = 4)\n",
    "\n",
    "plt.errorbar(x3, y3, yerr = [y3_err,y3_err], xerr = [x3_err,x3_err], \n",
    "             capsize = 3, c = \"g\", ecolor = 'g', lw = 0, elinewidth = 0.5, capthick = 0.5, label = 'MERV 11', marker = '^', ms = 4)\n",
    "\n",
    "plt.errorbar(x4, y4, yerr = [y4_err,y4_err], xerr = [x4_err,x4_err], \n",
    "             capsize = 3, c = \"k\", ecolor = 'k', lw = 0, elinewidth = 0.5, capthick = 0.5, label = 'MERV 14', marker = 'D', ms = 4)\n",
    "\n",
    "plt.xlim(0, 450000)\n",
    "plt.xticks(np.arange(0, 450000, step=100000))\n",
    "ax = plt.gca()\n",
    "ax.xaxis.set_major_formatter(mtick.FormatStrFormatter('%.1e'))\n",
    "plt.minorticks_off()\n",
    "plt.xlabel(r'Filtration Volume, k$_{TSP}$ ($m^{3}$)', size = 14) # FIX THIS\n",
    "\n",
    "plt.ylim(0, 35)\n",
    "plt.yticks(np.arange(0, 35, step=10))\n",
    "plt.ylabel('TSP Content, m$_{TSP}$ (g)', size = 14)\n",
    "\n",
    "plt.tick_params(axis = 'both', direction = 'inout')\n",
    "# plt.ticklabel_format(style='sci', axis='both')\n",
    "\n",
    "## The below system doesn't work in loop as it cumulatvely add labels. Should later find a solution for it.\n",
    "ax = plt.gca()\n",
    "handles, labels = ax.get_legend_handles_labels()\n",
    "new_handles = []\n",
    "for h in handles:\n",
    "    #only need to edit the errorbar legend entries\n",
    "    if isinstance(h, container.ErrorbarContainer):\n",
    "        new_handles.append(h[0])\n",
    "    else:\n",
    "        new_handles.append(h)\n",
    "ax.legend(new_handles, labels, loc = 1, frameon = True, edgecolor = 'black', fontsize = 11)\n",
    "\n",
    "\n",
    "# plt.legend(loc = 1, frameon = True, edgecolor = 'black', framealpha=1)\n",
    "plt.text(35000, 33, 'n = 79', ha = 'center', va = 'center', fontsize = 10)\n",
    "\n",
    "plt.savefig(r'C:/PhD Research/PhD - PSD TSP/Processed/plots/Figure_3.jpg', format='jpg', dpi=1600, bbox_inches='tight')\n"
   ]
  },
  {
   "cell_type": "markdown",
   "id": "c561fd77",
   "metadata": {},
   "source": [
    "End of Code"
   ]
  },
  {
   "cell_type": "code",
   "execution_count": null,
   "id": "13f3f043",
   "metadata": {},
   "outputs": [],
   "source": []
  }
 ],
 "metadata": {
  "kernelspec": {
   "display_name": "Python 3 (ipykernel)",
   "language": "python",
   "name": "python3"
  },
  "language_info": {
   "codemirror_mode": {
    "name": "ipython",
    "version": 3
   },
   "file_extension": ".py",
   "mimetype": "text/x-python",
   "name": "python",
   "nbconvert_exporter": "python",
   "pygments_lexer": "ipython3",
   "version": "3.9.7"
  }
 },
 "nbformat": 4,
 "nbformat_minor": 5
}
